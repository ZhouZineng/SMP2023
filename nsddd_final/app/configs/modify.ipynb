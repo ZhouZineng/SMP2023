{
 "cells": [
  {
   "cell_type": "code",
   "execution_count": 3,
   "metadata": {},
   "outputs": [],
   "source": [
    "import re\n",
    "import pandas as pd\n",
    "sql_gpt4_map = pd.read_csv('/data/chengshuang/SMP2023/NSDDD/app/configs/statistic_query_res.csv')\n",
    "sql_queries = sql_gpt4_map.values.tolist()\n",
    "\n",
    "new_sql_query = [['id', 'question', 'sql']]\n",
    "for i, question, sql_query in sql_queries:\n",
    "    match = re.search(r'(\\w+)\\s+IS NOT NULL', sql_query)\n",
    "    if match:\n",
    "        column_name = match.group(1)\n",
    "        new_string = sql_query[:match.end()] + f\" AND {column_name} != 1.0\" + sql_query[match.end():]\n",
    "        new_sql_query.append([i, question, new_string])\n",
    "\n",
    "df = pd.DataFrame(new_sql_query)\n",
    "df.to_csv('statistic_query_res_new.csv', header=False, index=False)\n",
    "# print(new_sql_query)      \n",
    "# for query in sql_queries:\n",
    "#     print(query)"
   ]
  }
 ],
 "metadata": {
  "kernelspec": {
   "display_name": "ChatGLM2",
   "language": "python",
   "name": "python3"
  },
  "language_info": {
   "codemirror_mode": {
    "name": "ipython",
    "version": 3
   },
   "file_extension": ".py",
   "mimetype": "text/x-python",
   "name": "python",
   "nbconvert_exporter": "python",
   "pygments_lexer": "ipython3",
   "version": "3.9.17"
  },
  "orig_nbformat": 4
 },
 "nbformat": 4,
 "nbformat_minor": 2
}
