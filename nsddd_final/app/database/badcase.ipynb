{
 "cells": [
  {
   "cell_type": "code",
   "execution_count": 33,
   "metadata": {},
   "outputs": [],
   "source": [
    "# 读取out.csv中的'负债合计'列，找出其中为空的行，并找出'企业名称'列对应行的值\n",
    "# 保存到badcase.csv中\n",
    "# import csv\n",
    "# keyword='货币资金'\n",
    "# with open ('./out.csv','r',encoding= 'utf-8') as f:\n",
    "#     reader = csv.DictReader(f)\n",
    "#     with open (f'./{keyword}-badcase.csv','w',encoding='utf-8') as f1:\n",
    "#         writer = csv.DictWriter(f1,fieldnames=['公司名称',keyword,'年份','table_dir','pdf_path'])\n",
    "#         writer.writeheader()\n",
    "#         for row in reader:\n",
    "#             if row[keyword] == '':\n",
    "#                 writer.writerow({'公司名称':row['公司名称'],keyword:row[keyword],'年份':row['年份'],'table_dir':row['table_dir'],'pdf_path':f\"/data/chengshuang/chatglm_llm_fintech_raw_dataset/allpdf/{row['pdf_name']}.pdf\"})\n",
    "                \n",
    "                \n",
    "# 读取out.csv中的'负债合计'列，找出其中为空的行，并找出'企业名称'列对应行的值\n",
    "# 保存到badcase.csv中\n",
    "import csv\n",
    "import os\n",
    "keyword_list=['负债合计','资产总计','货币资金','营业收入','营业总成本','营业成本','营业利润','利润总额','净利润','其他流动资产','其他非流动资产','其他非流动金融资产','营业总收入','营业外收入\\\n",
    "','流动资产合计']\n",
    "# keyword_searched = []\n",
    "# file_path = os.listdir('./')\n",
    "# for file_csv in file_path:\n",
    "#     if 'csv' in file_csv:\n",
    "#         keyword_searched.append(file_csv.split('-')[0])\n",
    "for keyword in keyword_list:\n",
    "    # if keyword in keyword_searched:\n",
    "    #     continue\n",
    "    with open ('./out.csv','r',encoding= 'utf-8') as f:\n",
    "        reader = csv.DictReader(f)\n",
    "        with open (f'./{keyword}-badcase.csv','w',encoding='utf-8') as f1:\n",
    "            writer = csv.DictWriter(f1,fieldnames=['公司名称',keyword,'年份','table_dir','pdf_path','html_path'])\n",
    "            writer.writeheader()\n",
    "            for row in reader:\n",
    "                if row[keyword] == '':\n",
    "                    writer.writerow({'公司名称':row['公司名称'],keyword:row[keyword],'年份':row['年份'],'table_dir':row['table_dir'],'pdf_path':f\"/data/chengshuang/chatglm_llm_fintech_raw_dataset/allpdf/{row['pdf_name']}.pdf\",'html_path':f\"/data/chengshuang/SMP2023/table_extract/html_result_new/{row['pdf_name']}.html\"})"
   ]
  },
  {
   "cell_type": "code",
   "execution_count": 34,
   "metadata": {},
   "outputs": [
    {
     "name": "stdout",
     "output_type": "stream",
     "text": [
      "合并资产负债表 负债合计\n",
      "合并资产负债表 资产总计\n",
      "合并资产负债表 货币资金\n",
      "合并利润表 营业收入\n",
      "合并利润表 营业总成本\n",
      "合并利润表 营业成本\n",
      "合并利润表 营业利润\n",
      "合并利润表 利润总额\n",
      "合并利润表 净利润\n",
      "合并资产负债表 其他流动资产\n",
      "合并资产负债表 其他非流动资产\n",
      "合并利润表 营业总收入\n",
      "合并利润表 营业外收入\n",
      "合并资产负债表 流动资产合计\n"
     ]
    }
   ],
   "source": [
    "# 读取out.csv中的'负债合计'列，找出其中为空的行，并找出'企业名称'列对应行的值\n",
    "# 保存到badcase.csv中\n",
    "import csv\n",
    "import os\n",
    "keyword_list={'负债合计':'合并资产负债表',\n",
    "              '资产总计':'合并资产负债表',\n",
    "              '货币资金':'合并资产负债表',\n",
    "              '营业收入':'合并利润表',\n",
    "              '营业总成本':'合并利润表',\n",
    "              '营业成本':'合并利润表',\n",
    "              '营业利润':'合并利润表',\n",
    "              '利润总额':'合并利润表',\n",
    "              '净利润':'合并利润表',\n",
    "              '其他流动资产':'合并资产负债表',\n",
    "              '其他非流动资产':'合并资产负债表',\n",
    "              '其他非流动金融资产':'合并资产负债表',\n",
    "              '营业总收入':'合并利润表',\n",
    "              '营业外收入':'合并利润表',\n",
    "              '流动资产合计':'合并资产负债表'}\n",
    "with open (f'./map.csv','a+',encoding='utf-8') as f1:\n",
    "    writer = csv.DictWriter(f1,fieldnames=['html','v8_clean'])\n",
    "    writer.writeheader()\n",
    "    for keyword,table in keyword_list.items():\n",
    "        print(table,keyword)\n",
    "        with open ('./out.csv','r',encoding= 'utf-8') as f:\n",
    "            reader = csv.DictReader(f)\n",
    "            for row in reader:\n",
    "                if row[keyword] == '':\n",
    "                    # writer.writerow({'公司名称':row['公司名称'],keyword:row[keyword],'年份':row['年份'],'table_dir':row['table_dir'],'pdf_path':f\"/data/chengshuang/chatglm_llm_fintech_raw_dataset/allpdf/{row['pdf_name']}.pdf\"})\n",
    "                    writer.writerow({'html':os.path.join(row['table_dir'],table+'.csv'),'v8_clean':os.path.join('/data/chengshuang/chatglm_llm_fintech_raw_dataset/alltable_v8_clean',row['table_dir'].split('/')[-1],table+'_1.csv')})"
   ]
  },
  {
   "cell_type": "code",
   "execution_count": 30,
   "metadata": {},
   "outputs": [
    {
     "data": {
      "text/plain": [
       "{'合并资产负债表': '流动资产合计', '合并利润表': '营业外收入'}"
      ]
     },
     "execution_count": 30,
     "metadata": {},
     "output_type": "execute_result"
    }
   ],
   "source": [
    "keyword_list"
   ]
  }
 ],
 "metadata": {
  "kernelspec": {
   "display_name": "ChatGLM2",
   "language": "python",
   "name": "python3"
  },
  "language_info": {
   "codemirror_mode": {
    "name": "ipython",
    "version": 3
   },
   "file_extension": ".py",
   "mimetype": "text/x-python",
   "name": "python",
   "nbconvert_exporter": "python",
   "pygments_lexer": "ipython3",
   "version": "3.9.17"
  },
  "orig_nbformat": 4
 },
 "nbformat": 4,
 "nbformat_minor": 2
}
